{
  "nbformat": 4,
  "nbformat_minor": 0,
  "metadata": {
    "colab": {
      "provenance": [],
      "authorship_tag": "ABX9TyMbbWdk3+kOgmeuhbJmvqNE",
      "include_colab_link": true
    },
    "kernelspec": {
      "name": "python3",
      "display_name": "Python 3"
    },
    "language_info": {
      "name": "python"
    }
  },
  "cells": [
    {
      "cell_type": "markdown",
      "metadata": {
        "id": "view-in-github",
        "colab_type": "text"
      },
      "source": [
        "<a href=\"https://colab.research.google.com/github/MUTHYALA-SANJAYREDDY/IMAGE_STEGANOGRAPHY/blob/main/IMAGE_STEGANOGRAPHY.ipynb\" target=\"_parent\"><img src=\"https://colab.research.google.com/assets/colab-badge.svg\" alt=\"Open In Colab\"/></a>"
      ]
    },
    {
      "cell_type": "code",
      "execution_count": null,
      "metadata": {
        "colab": {
          "base_uri": "https://localhost:8080/"
        },
        "id": "llvf1KmP4on9",
        "outputId": "c454b831-81f4-4089-a918-42b53447bc63"
      },
      "outputs": [
        {
          "output_type": "stream",
          "name": "stdout",
          "text": [
            "MD5 hash of the file saved to /content/sample_data/md5_hash.txt\n"
          ]
        }
      ],
      "source": [
        "import hashlib\n",
        "\n",
        "def hash_file_md5(input_file_path, output_file_path):\n",
        "    try:\n",
        "        # Read the content of the input file\n",
        "        with open(input_file_path, 'r') as file:\n",
        "            file_content = file.read()\n",
        "\n",
        "        # Perform MD5 hashing\n",
        "        md5_hash = hashlib.md5(file_content.encode()).hexdigest()\n",
        "\n",
        "        # Save the MD5 hash in the output file\n",
        "        with open(output_file_path, 'w') as output_file:\n",
        "            output_file.write(md5_hash)\n",
        "\n",
        "        print(f\"MD5 hash of the file saved to {output_file_path}\")\n",
        "\n",
        "    except FileNotFoundError:\n",
        "        print(\"The specified input file does not exist.\")\n",
        "    except Exception as e:\n",
        "        print(f\"An error occurred: {e}\")\n",
        "\n",
        "# Example usage\n",
        "input_file_path = '/content/sample_data/input.txt'\n",
        "output_file_path = '/content/sample_data/md5_hash.txt'\n",
        "hash_file_md5(input_file_path, output_file_path)\n"
      ]
    },
    {
      "cell_type": "code",
      "source": [
        "import hashlib\n",
        "\n",
        "def double_hash_md5_sha256(input_file_path, output_file_path):\n",
        "    try:\n",
        "        # Read the MD5 hash from the input file\n",
        "        with open(input_file_path, 'r') as file:\n",
        "            md5_hash = file.read().strip()  # Ensure no extra whitespace\n",
        "\n",
        "        # Perform SHA-256 hashing on the MD5 hash\n",
        "        sha256_hash = hashlib.sha256(md5_hash.encode()).hexdigest()\n",
        "\n",
        "        # Save the double-hashed value (SHA-256 of MD5) to the output file\n",
        "        with open(output_file_path, 'w') as output_file:\n",
        "            output_file.write(sha256_hash)\n",
        "\n",
        "        print(f\"Double-hashed value (SHA-256 of MD5) saved to {output_file_path}\")\n",
        "\n",
        "    except FileNotFoundError:\n",
        "        print(\"The specified input file does not exist.\")\n",
        "    except Exception as e:\n",
        "        print(f\"An error occurred: {e}\")\n",
        "\n",
        "# Example usage\n",
        "input_file_path = '/content/sample_data/md5_hash.txt'\n",
        "output_file_path = '/content/sample_data/double_hash.txt'\n",
        "double_hash_md5_sha256(input_file_path, output_file_path)\n"
      ],
      "metadata": {
        "colab": {
          "base_uri": "https://localhost:8080/"
        },
        "id": "55JCTQVP6UwH",
        "outputId": "03f6fbe4-e0ac-448c-f76a-da2ec86f6576"
      },
      "execution_count": null,
      "outputs": [
        {
          "output_type": "stream",
          "name": "stdout",
          "text": [
            "Double-hashed value (SHA-256 of MD5) saved to /content/sample_data/double_hash.txt\n"
          ]
        }
      ]
    },
    {
      "cell_type": "code",
      "source": [
        "!pip install cryptography\n",
        "!pip install pycryptodome"
      ],
      "metadata": {
        "colab": {
          "base_uri": "https://localhost:8080/"
        },
        "id": "_NttLX0C7AKx",
        "outputId": "1201d1dd-3551-4911-a176-a9682cfce70e"
      },
      "execution_count": null,
      "outputs": [
        {
          "output_type": "stream",
          "name": "stdout",
          "text": [
            "Requirement already satisfied: cryptography in /usr/local/lib/python3.10/dist-packages (43.0.1)\n",
            "Requirement already satisfied: cffi>=1.12 in /usr/local/lib/python3.10/dist-packages (from cryptography) (1.17.1)\n",
            "Requirement already satisfied: pycparser in /usr/local/lib/python3.10/dist-packages (from cffi>=1.12->cryptography) (2.22)\n",
            "Collecting pycryptodome\n",
            "  Downloading pycryptodome-3.20.0-cp35-abi3-manylinux_2_17_x86_64.manylinux2014_x86_64.whl.metadata (3.4 kB)\n",
            "Downloading pycryptodome-3.20.0-cp35-abi3-manylinux_2_17_x86_64.manylinux2014_x86_64.whl (2.1 MB)\n",
            "\u001b[2K   \u001b[90m━━━━━━━━━━━━━━━━━━━━━━━━━━━━━━━━━━━━━━━━\u001b[0m \u001b[32m2.1/2.1 MB\u001b[0m \u001b[31m21.9 MB/s\u001b[0m eta \u001b[36m0:00:00\u001b[0m\n",
            "\u001b[?25hInstalling collected packages: pycryptodome\n",
            "Successfully installed pycryptodome-3.20.0\n"
          ]
        }
      ]
    },
    {
      "cell_type": "code",
      "source": [
        "from Crypto.Random import get_random_bytes\n",
        "\n",
        "def generate_aes_key_and_save(output_file):\n",
        "    # Step 1: Generate a random AES-128 key (16 bytes)\n",
        "    aes_key = get_random_bytes(16)  # AES-128 uses 16 bytes\n",
        "\n",
        "    # Step 2: Save the raw key directly into the file (binary format, or hex for readability)\n",
        "    with open(output_file, 'wb') as f:  # Save in binary\n",
        "        f.write(aes_key)\n",
        "\n",
        "    # Also print the AES key as a hex string for verification\n",
        "    aes_key_hex = aes_key.hex()\n",
        "    print(f\"AES-128 Key (16 bytes, Hex): {aes_key_hex}\")\n",
        "\n",
        "# Example usage\n",
        "output_file = \"/content/sample_data/aes_key.bin\"  # Path to save the generated AES-128 key\n",
        "\n",
        "generate_aes_key_and_save(output_file)\n"
      ],
      "metadata": {
        "colab": {
          "base_uri": "https://localhost:8080/"
        },
        "id": "PO1mPkag7RDY",
        "outputId": "c02e9d56-4828-4c0b-aebb-a9880ac061d9"
      },
      "execution_count": null,
      "outputs": [
        {
          "output_type": "stream",
          "name": "stdout",
          "text": [
            "AES-128 Key (16 bytes, Hex): cf73cbe1ef5b8d24db6ab7fe616ea08e\n"
          ]
        }
      ]
    },
    {
      "cell_type": "code",
      "source": [
        "import os\n",
        "from cryptography.hazmat.primitives.ciphers import Cipher, algorithms, modes\n",
        "from cryptography.hazmat.backends import default_backend\n",
        "from cryptography.hazmat.primitives import padding\n",
        "\n",
        "def read_aes_key(key_file_path):\n",
        "    try:\n",
        "        # Read the AES key from the provided file\n",
        "        with open(key_file_path, 'rb') as key_file:\n",
        "            aes_key = key_file.read()\n",
        "\n",
        "        if len(aes_key) != 16:\n",
        "            raise ValueError(\"Invalid AES key length. The key must be 16 bytes (128-bit) for AES-128 encryption.\")\n",
        "\n",
        "        print(f\"Read AES-128 Key (hex): {aes_key.hex()}\")\n",
        "        return aes_key\n",
        "    except FileNotFoundError:\n",
        "        print(f\"The key file at {key_file_path} does not exist.\")\n",
        "        raise\n",
        "    except Exception as e:\n",
        "        print(f\"An error occurred while reading the AES key: {e}\")\n",
        "        raise\n",
        "\n",
        "def aes_encrypt(plaintext, key):\n",
        "    # Generate a random initialization vector (IV) for AES\n",
        "    iv = os.urandom(16)\n",
        "    print(f\"Generated IV (hex): {iv.hex()}\")\n",
        "\n",
        "    # Create the AES cipher in CBC mode\n",
        "    cipher = Cipher(algorithms.AES(key), modes.CBC(iv), backend=default_backend())\n",
        "    encryptor = cipher.encryptor()\n",
        "\n",
        "    # Pad the plaintext to be a multiple of AES block size (128-bit)\n",
        "    padder = padding.PKCS7(128).padder()\n",
        "    padded_plaintext = padder.update(plaintext) + padder.finalize()\n",
        "    print(f\"Padded Plaintext (hex): {padded_plaintext.hex()}\")\n",
        "\n",
        "    # Encrypt the padded plaintext\n",
        "    ciphertext = encryptor.update(padded_plaintext) + encryptor.finalize()\n",
        "    print(f\"Ciphertext (hex): {ciphertext.hex()}\")\n",
        "\n",
        "    # Return the IV and ciphertext separately\n",
        "    return iv, ciphertext\n",
        "\n",
        "def encrypt_file(input_file_path, key_file_path, output_file_path, iv_file_path):\n",
        "    try:\n",
        "        # Read the content of the input file\n",
        "        with open(input_file_path, 'rb') as file:\n",
        "            plaintext = file.read()\n",
        "        print(f\"Original Plaintext: {plaintext.decode('utf-8')}\")\n",
        "        print(f\"Original Plaintext (hex): {plaintext.hex()}\")\n",
        "\n",
        "        # Read the AES-128 key from the key file\n",
        "        aes_key = read_aes_key(key_file_path)\n",
        "\n",
        "        # Encrypt the file's content using the provided AES-128 key\n",
        "        iv, ciphertext = aes_encrypt(plaintext, aes_key)\n",
        "\n",
        "        # Save the encrypted ciphertext to the output file (in hex format)\n",
        "        with open(output_file_path, 'w') as output_file:\n",
        "            output_file.write(ciphertext.hex())  # Save ciphertext as hex\n",
        "        print(f\"\\nCiphertext saved (hex) to {output_file_path}\")\n",
        "\n",
        "        # Save the generated IV to a separate file (in hex format)\n",
        "        with open(iv_file_path, 'w') as iv_file:\n",
        "            iv_file.write(iv.hex())  # Save IV as hex\n",
        "        print(f\"Initialization Vector (IV) saved (hex) to {iv_file_path}\")\n",
        "\n",
        "    except FileNotFoundError:\n",
        "        print(\"The specified input file does not exist.\")\n",
        "    except Exception as e:\n",
        "        print(f\"An error occurred: {e}\")\n",
        "\n",
        "# Example usage\n",
        "input_file_path = '/content/sample_data/input.txt'\n",
        "key_file_path = '/content/sample_data/aes_key.bin'\n",
        "output_file_path = '/content/sample_data/aes128_ciphertext_file.txt'\n",
        "iv_file_path = '/content/sample_data/aes128_iv_file.txt'\n",
        "encrypt_file(input_file_path, key_file_path, output_file_path, iv_file_path)\n"
      ],
      "metadata": {
        "colab": {
          "base_uri": "https://localhost:8080/"
        },
        "id": "U-IUqou--BjW",
        "outputId": "8cb4589d-87b4-4c36-a9fd-d6e34fd2736b"
      },
      "execution_count": null,
      "outputs": [
        {
          "output_type": "stream",
          "name": "stdout",
          "text": [
            "Original Plaintext: hi, how are you?\n",
            "Original Plaintext (hex): 68692c20686f772061726520796f753f\n",
            "Read AES-128 Key (hex): cf73cbe1ef5b8d24db6ab7fe616ea08e\n",
            "Generated IV (hex): bd4158673313d21106f12f976ea159c1\n",
            "Padded Plaintext (hex): 68692c20686f772061726520796f753f10101010101010101010101010101010\n",
            "Ciphertext (hex): 0323774c7cb83f4b837f41ed0b001d461f9207745269940c5afeb62616fadf6a\n",
            "\n",
            "Ciphertext saved (hex) to /content/sample_data/aes128_ciphertext_file.txt\n",
            "Initialization Vector (IV) saved (hex) to /content/sample_data/aes128_iv_file.txt\n"
          ]
        }
      ]
    },
    {
      "cell_type": "code",
      "source": [
        "import os\n",
        "from cryptography.hazmat.primitives.ciphers import Cipher, algorithms, modes\n",
        "from cryptography.hazmat.backends import default_backend\n",
        "from cryptography.hazmat.primitives import padding\n",
        "\n",
        "def read_aes_key(key_file_path):\n",
        "    try:\n",
        "        # Read the AES key from the provided file\n",
        "        with open(key_file_path, 'rb') as key_file:\n",
        "            aes_key = key_file.read()\n",
        "\n",
        "        if len(aes_key) != 16:\n",
        "            raise ValueError(\"Invalid AES key length. The key must be 16 bytes (128-bit) for AES-128 encryption.\")\n",
        "\n",
        "        print(f\"Read AES-128 Key (hex): {aes_key.hex()}\")\n",
        "        return aes_key\n",
        "    except FileNotFoundError:\n",
        "        print(f\"The key file at {key_file_path} does not exist.\")\n",
        "        raise\n",
        "    except Exception as e:\n",
        "        print(f\"An error occurred while reading the AES key: {e}\")\n",
        "        raise\n",
        "\n",
        "def aes_encrypt(plaintext, key):\n",
        "    # Generate a random initialization vector (IV) for AES\n",
        "    iv = os.urandom(16)\n",
        "    print(f\"Generated IV (hex): {iv.hex()}\")\n",
        "\n",
        "    # Create the AES cipher in CBC mode\n",
        "    cipher = Cipher(algorithms.AES(key), modes.CBC(iv), backend=default_backend())\n",
        "    encryptor = cipher.encryptor()\n",
        "\n",
        "    # Pad the plaintext to be a multiple of AES block size (128-bit)\n",
        "    padder = padding.PKCS7(128).padder()\n",
        "    padded_plaintext = padder.update(plaintext) + padder.finalize()\n",
        "    print(f\"Padded Plaintext (hex): {padded_plaintext.hex()}\")\n",
        "\n",
        "    # Encrypt the padded plaintext\n",
        "    ciphertext = encryptor.update(padded_plaintext) + encryptor.finalize()\n",
        "    print(f\"Ciphertext (hex): {ciphertext.hex()}\")\n",
        "\n",
        "    # Return the IV and ciphertext separately\n",
        "    return iv, ciphertext\n",
        "\n",
        "def encrypt_file(input_file_path, key_file_path, output_file_path, iv_file_path):\n",
        "    try:\n",
        "        # Read the content of the input file\n",
        "        with open(input_file_path, 'rb') as file:\n",
        "            plaintext = file.read()\n",
        "        print(f\"Original Plaintext: {plaintext.decode('utf-8')}\")\n",
        "        print(f\"Original Plaintext (hex): {plaintext.hex()}\")\n",
        "\n",
        "        # Read the AES-128 key from the key file\n",
        "        aes_key = read_aes_key(key_file_path)\n",
        "\n",
        "        # Encrypt the file's content using the provided AES-128 key\n",
        "        iv, ciphertext = aes_encrypt(plaintext, aes_key)\n",
        "\n",
        "        # Save the encrypted ciphertext to the output file (in hex format)\n",
        "        with open(output_file_path, 'w') as output_file:\n",
        "            output_file.write(ciphertext.hex())  # Save ciphertext as hex\n",
        "        print(f\"\\nCiphertext saved (hex) to {output_file_path}\")\n",
        "\n",
        "        # Save the generated IV to a separate file (in hex format)\n",
        "        with open(iv_file_path, 'w') as iv_file:\n",
        "            iv_file.write(iv.hex())  # Save IV as hex\n",
        "        print(f\"Initialization Vector (IV) saved (hex) to {iv_file_path}\")\n",
        "\n",
        "    except FileNotFoundError:\n",
        "        print(\"The specified input file does not exist.\")\n",
        "    except Exception as e:\n",
        "        print(f\"An error occurred: {e}\")\n",
        "\n",
        "# Example usage\n",
        "input_file_path = '/content/sample_data/input.txt'            # Path to your plaintext input file\n",
        "key_file_path = '/content/sample_data/aes_key.bin'            # Path to your AES-128 key file\n",
        "output_file_path = '/content/sample_data/aes128_ciphertext_file.txt'  # Path to save the ciphertext\n",
        "iv_file_path = '/content/sample_data/aes128_iv_file.txt'             # Path to save the IV\n",
        "\n",
        "encrypt_file(input_file_path, key_file_path, output_file_path, iv_file_path)\n"
      ],
      "metadata": {
        "colab": {
          "base_uri": "https://localhost:8080/"
        },
        "id": "GTcVAIbAEj-v",
        "outputId": "9177c0d1-6465-4573-d19f-078dd6f0b26a"
      },
      "execution_count": null,
      "outputs": [
        {
          "output_type": "stream",
          "name": "stdout",
          "text": [
            "Original Plaintext: hi, how are you?\n",
            "Original Plaintext (hex): 68692c20686f772061726520796f753f\n",
            "Read AES-128 Key (hex): cf73cbe1ef5b8d24db6ab7fe616ea08e\n",
            "Generated IV (hex): 2bc6ac78d515f4ec1d5ee192590a81d3\n",
            "Padded Plaintext (hex): 68692c20686f772061726520796f753f10101010101010101010101010101010\n",
            "Ciphertext (hex): cb626d3c3c72d85df15c443a2ac86f17e928df1fc7c834aec242f06339788f78\n",
            "\n",
            "Ciphertext saved (hex) to /content/sample_data/aes128_ciphertext_file.txt\n",
            "Initialization Vector (IV) saved (hex) to /content/sample_data/aes128_iv_file.txt\n"
          ]
        }
      ]
    },
    {
      "cell_type": "code",
      "source": [
        "def read_hex_file_as_bin(file_path):\n",
        "    \"\"\"Reads a file containing hex data and returns its content in binary format.\"\"\"\n",
        "    with open(file_path, 'r') as file:\n",
        "        hex_data = file.read().strip()  # Strip any extra whitespace or newlines\n",
        "        return bytes.fromhex(hex_data)  # Convert hex to binary\n",
        "\n",
        "def read_file_as_bin(file_path):\n",
        "    \"\"\"Reads a binary file and returns its content as a binary string.\"\"\"\n",
        "    with open(file_path, 'rb') as file:\n",
        "        return file.read()\n",
        "\n",
        "def save_hex_to_file(hex_data, output_path):\n",
        "    \"\"\"Saves the hexadecimal data to a text file.\"\"\"\n",
        "    with open(output_path, 'w') as file:\n",
        "        file.write(hex_data)\n",
        "\n",
        "def concatenate_and_save_in_hex(aes_cipher_text_path, aes_key_path, aes_iv_path, output_path):\n",
        "    # Step 1: Read AES cipher text (hex in text format) and convert to binary\n",
        "    aes_cipher_text_bin = read_hex_file_as_bin(aes_cipher_text_path)\n",
        "\n",
        "    # Step 2: Read AES key (binary format)\n",
        "    aes_key_bin = read_file_as_bin(aes_key_path)\n",
        "\n",
        "    # Step 3: Read AES IV (hex in text format) and convert to binary\n",
        "    aes_iv_bin = read_hex_file_as_bin(aes_iv_path)\n",
        "\n",
        "    # Step 4: Concatenate binary data (cipher text, key, IV)\n",
        "    concatenated_bin_data = aes_cipher_text_bin + aes_key_bin + aes_iv_bin\n",
        "\n",
        "    # Step 5: Convert the concatenated binary data to hexadecimal\n",
        "    concatenated_hex_data = concatenated_bin_data.hex()\n",
        "\n",
        "    # Step 6: Save the concatenated hex data to the output text file\n",
        "    save_hex_to_file(concatenated_hex_data, output_path)\n",
        "    print(f\"Concatenated data saved in hexadecimal format at: {output_path}\")\n",
        "\n",
        "# Example usage\n",
        "aes_cipher_text_path = \"/content/sample_data/aes128_ciphertext_file.txt\"  # Cipher text in hex (text format)\n",
        "aes_key_path = \"/content/sample_data/aes_key.bin\"  # AES key in binary\n",
        "aes_iv_path = \"/content/sample_data/aes128_iv_file.txt\"  # IV in hex (text format)\n",
        "output_path = \"/content/sample_data/aes_concate.txt\"\n",
        "\n",
        "concatenate_and_save_in_hex(aes_cipher_text_path, aes_key_path, aes_iv_path, output_path)\n"
      ],
      "metadata": {
        "colab": {
          "base_uri": "https://localhost:8080/"
        },
        "id": "DWx7Jl9vNweU",
        "outputId": "a51d0629-9d7c-4f29-e77d-8773b3c1c0cc"
      },
      "execution_count": null,
      "outputs": [
        {
          "output_type": "stream",
          "name": "stdout",
          "text": [
            "Concatenated data saved in hexadecimal format at: /content/sample_data/aes_concate.txt\n"
          ]
        }
      ]
    },
    {
      "cell_type": "code",
      "source": [
        "from cryptography.hazmat.primitives.asymmetric import rsa\n",
        "from cryptography.hazmat.primitives import serialization\n",
        "from cryptography.hazmat.backends import default_backend\n",
        "\n",
        "# Generate RSA private key (2048 bits for better security)\n",
        "private_key = rsa.generate_private_key(\n",
        "    public_exponent=65537,\n",
        "    key_size=2048,\n",
        "    backend=default_backend()\n",
        ")\n",
        "\n",
        "# Serialize and save private key to a file\n",
        "with open(\"private_key.pem\", \"wb\") as private_file:\n",
        "    private_file.write(\n",
        "        private_key.private_bytes(\n",
        "            encoding=serialization.Encoding.PEM,\n",
        "            format=serialization.PrivateFormat.PKCS8,\n",
        "            encryption_algorithm=serialization.NoEncryption()  # You can add encryption here if needed\n",
        "        )\n",
        "    )\n",
        "\n",
        "# Generate the public key from the private key\n",
        "public_key = private_key.public_key()\n",
        "\n",
        "# Serialize and save public key to a file\n",
        "with open(\"public_key.pem\", \"wb\") as public_file:\n",
        "    public_file.write(\n",
        "        public_key.public_bytes(\n",
        "            encoding=serialization.Encoding.PEM,\n",
        "            format=serialization.PublicFormat.SubjectPublicKeyInfo\n",
        "        )\n",
        "    )\n",
        "\n",
        "print(\"Keys generated and saved as 'private_key.pem' and 'public_key.pem'\")\n"
      ],
      "metadata": {
        "colab": {
          "base_uri": "https://localhost:8080/"
        },
        "id": "Xrkvsbk1QL-o",
        "outputId": "3e553551-bbba-43e7-cd68-07371fdbda69"
      },
      "execution_count": null,
      "outputs": [
        {
          "output_type": "stream",
          "name": "stdout",
          "text": [
            "Keys generated and saved as 'private_key.pem' and 'public_key.pem'\n"
          ]
        }
      ]
    },
    {
      "cell_type": "code",
      "source": [
        "from Crypto.Cipher import PKCS1_OAEP\n",
        "from Crypto.PublicKey import RSA\n",
        "import binascii\n",
        "\n",
        "def read_hex_file_as_bin(file_path):\n",
        "    \"\"\"Reads a file containing hex data and returns its content in binary format.\"\"\"\n",
        "    with open(file_path, 'r') as file:\n",
        "        hex_data = file.read().strip()  # Strip any extra whitespace or newlines\n",
        "        return bytes.fromhex(hex_data)  # Convert hex to binary\n",
        "\n",
        "def save_bin_to_file(bin_data, output_path):\n",
        "    \"\"\"Saves binary data to a file.\"\"\"\n",
        "    with open(output_path, 'wb') as file:\n",
        "        file.write(bin_data)\n",
        "\n",
        "def rsa_encrypt(data_bin, public_key_path):\n",
        "    \"\"\"Encrypts binary data using RSA public key.\"\"\"\n",
        "    # Load the public key from file\n",
        "    with open(public_key_path, 'rb') as f:\n",
        "        public_key = RSA.import_key(f.read())\n",
        "\n",
        "    # Create a cipher object using the public key\n",
        "    cipher_rsa = PKCS1_OAEP.new(public_key)\n",
        "\n",
        "    # Encrypt the data\n",
        "    encrypted_data = cipher_rsa.encrypt(data_bin)\n",
        "    return encrypted_data\n",
        "\n",
        "def encrypt_and_save(aes_data_path, rsa_public_key_path, output_path):\n",
        "    # Step 1: Read the concatenated hex data from file and convert to binary\n",
        "    concatenated_data_bin = read_hex_file_as_bin(aes_data_path)\n",
        "\n",
        "    # Step 2: Perform RSA encryption\n",
        "    encrypted_data_bin = rsa_encrypt(concatenated_data_bin, rsa_public_key_path)\n",
        "\n",
        "    # Step 3: Save the encrypted data to a binary file\n",
        "    save_bin_to_file(encrypted_data_bin, output_path)\n",
        "    print(f\"RSA Encrypted data saved in binary format at: {output_path}\")\n",
        "\n",
        "# Example usage\n",
        "aes_data_path = \"/content/sample_data/aes_concate.txt\"  # Concatenated AES cipher text, key, and IV in hex format\n",
        "rsa_public_key_path = \"/content/public_key.pem\"  # RSA public key in PEM format\n",
        "output_path = \"/content/sample_data/rsa.bin\"  # Output binary file path\n",
        "\n",
        "encrypt_and_save(aes_data_path, rsa_public_key_path, output_path)\n"
      ],
      "metadata": {
        "colab": {
          "base_uri": "https://localhost:8080/"
        },
        "id": "_55XUpqsQrmV",
        "outputId": "94925bfd-ce62-48cb-80d2-3ab664e41f18"
      },
      "execution_count": null,
      "outputs": [
        {
          "output_type": "stream",
          "name": "stdout",
          "text": [
            "RSA Encrypted data saved in binary format at: /content/sample_data/rsa.bin\n"
          ]
        }
      ]
    },
    {
      "cell_type": "code",
      "source": [
        "def read_bin_file(file_path):\n",
        "    \"\"\"Reads a binary file and returns its content.\"\"\"\n",
        "    with open(file_path, 'rb') as file:\n",
        "        return file.read()\n",
        "\n",
        "def read_txt_file(file_path):\n",
        "    \"\"\"Reads a text file (for the double hash) and returns its content.\"\"\"\n",
        "    with open(file_path, 'r') as file:\n",
        "        return file.read().strip()\n",
        "\n",
        "def hex_to_bin(hex_str):\n",
        "    \"\"\"Converts a hex string to its binary representation.\"\"\"\n",
        "    return ''.join(format(int(char, 16), '04b') for char in hex_str)\n",
        "\n",
        "def save_bin_file(output_path, bin_data):\n",
        "    \"\"\"Saves binary data to a binary file.\"\"\"\n",
        "    with open(output_path, 'wb') as file:\n",
        "        file.write(bin_data)\n",
        "\n",
        "def concatenate_bin(rsa_bin_path, double_hash_path, output_path):\n",
        "    \"\"\"Concatenates the RSA binary and the double-hashed value, saves as binary.\"\"\"\n",
        "    # Read the RSA binary file\n",
        "    rsa_bin = read_bin_file(rsa_bin_path)\n",
        "\n",
        "    # Read the double hash (assumed to be in hex format) from the text file\n",
        "    double_hash_hex = read_txt_file(double_hash_path)\n",
        "\n",
        "    # Convert the double hash from hex to binary format\n",
        "    double_hash_bin = hex_to_bin(double_hash_hex)\n",
        "\n",
        "    # Convert the binary string (0's and 1's) to bytes\n",
        "    double_hash_bytes = int(double_hash_bin, 2).to_bytes((len(double_hash_bin) + 7) // 8, byteorder='big')\n",
        "\n",
        "    # Concatenate RSA binary and double hash bytes\n",
        "    concatenated_data = rsa_bin + double_hash_bytes\n",
        "\n",
        "    # Save the concatenated data to the output file in binary format\n",
        "    save_bin_file(output_path, concatenated_data)\n",
        "\n",
        "    print(f\"Concatenated binary data saved at: {output_path}\")\n",
        "\n",
        "# Example usage\n",
        "rsa_bin_path = \"/content/sample_data/rsa.bin\"  # Path to the RSA binary file\n",
        "double_hash_path = \"/content/sample_data/double_hash.txt\"  # Path to the double hash text file (hex format)\n",
        "output_path = \"/content/sample_data/output_encoded.bin\"    # Path to save the concatenated binary\n",
        "\n",
        "concatenate_bin(rsa_bin_path, double_hash_path, output_path)\n"
      ],
      "metadata": {
        "colab": {
          "base_uri": "https://localhost:8080/"
        },
        "id": "6yigEjUhYprE",
        "outputId": "49b37d0f-47f9-403e-f517-d5f7f9cb5979"
      },
      "execution_count": null,
      "outputs": [
        {
          "output_type": "stream",
          "name": "stdout",
          "text": [
            "Concatenated binary data saved at: /content/sample_data/output_encoded.bin\n"
          ]
        }
      ]
    },
    {
      "cell_type": "code",
      "source": [
        "from PIL import Image\n",
        "import numpy as np\n",
        "\n",
        "def read_bin_file(file_path):\n",
        "    \"\"\"Reads a binary file and returns its content.\"\"\"\n",
        "    with open(file_path, 'rb') as file:\n",
        "        return file.read()\n",
        "\n",
        "def bin_to_binary_string(bin_data):\n",
        "    \"\"\"Converts binary data to a binary string.\"\"\"\n",
        "    return ''.join(format(byte, '08b') for byte in bin_data)\n",
        "\n",
        "def embed_into_image(binary_data, image_path, output_image_path):\n",
        "    \"\"\"Embeds binary data into an image using LSB technique.\"\"\"\n",
        "    # Load the image\n",
        "    img = Image.open(image_path)\n",
        "    img_array = np.array(img)\n",
        "\n",
        "    # Ensure the image can fit the binary data\n",
        "    if len(binary_data) > img_array.size:\n",
        "        raise ValueError(\"Image is too small to hold the data.\")\n",
        "\n",
        "    # Convert the image to RGB\n",
        "    img_array = img_array.astype(np.uint8)\n",
        "\n",
        "    # Embed data into the image\n",
        "    data_index = 0\n",
        "    for i in range(img_array.shape[0]):\n",
        "        for j in range(img_array.shape[1]):\n",
        "            for k in range(img_array.shape[2]):  # For each RGB channel\n",
        "                if data_index < len(binary_data):\n",
        "                    # Modify the least significant bit of each color channel\n",
        "                    img_array[i, j, k] = (img_array[i, j, k] & 0xFE) | int(binary_data[data_index])\n",
        "                    data_index += 1\n",
        "\n",
        "    # Save the stego image\n",
        "    stego_img = Image.fromarray(img_array)\n",
        "    stego_img.save(output_image_path)\n",
        "    print(f\"Stego image saved at: {output_image_path}\")\n",
        "\n",
        "# Example usage\n",
        "rsa_bin_file_path = \"/content/sample_data/output_encoded.bin\"  # RSA encrypted binary data\n",
        "image_path = \"/content/sample_data/bird-8788491_1280.webp\"  # Input image file\n",
        "output_image_path = \"/content/sample_data/output_stego_image.png\"  # Output stego image file\n",
        "\n",
        "# Read the RSA binary data\n",
        "rsa_bin_data = read_bin_file(rsa_bin_file_path)\n",
        "\n",
        "# Convert the binary data to a binary string\n",
        "binary_data = bin_to_binary_string(rsa_bin_data)\n",
        "\n",
        "# Embed the binary data into the image\n",
        "embed_into_image(binary_data, image_path, output_image_path)\n"
      ],
      "metadata": {
        "colab": {
          "base_uri": "https://localhost:8080/"
        },
        "id": "dDSrxfwORrn1",
        "outputId": "f018d2f3-21ab-42d7-91c6-e9618daf01e1"
      },
      "execution_count": null,
      "outputs": [
        {
          "output_type": "stream",
          "name": "stdout",
          "text": [
            "Stego image saved at: /content/sample_data/output_stego_image.png\n"
          ]
        }
      ]
    },
    {
      "cell_type": "code",
      "source": [
        "def read_bin_file(file_path):\n",
        "    \"\"\"Reads a binary file and returns its content.\"\"\"\n",
        "    with open(file_path, 'rb') as file:\n",
        "        return file.read()\n",
        "\n",
        "def bin_to_binary_string(bin_data):\n",
        "    \"\"\"Converts binary data to a binary string.\"\"\"\n",
        "    return ''.join(format(byte, '08b') for byte in bin_data)\n",
        "\n",
        "def print_binary_file(file_path):\n",
        "    \"\"\"Reads the binary file, prints the binary string and the number of bits.\"\"\"\n",
        "    binary_data = read_bin_file(file_path)\n",
        "    binary_string = bin_to_binary_string(binary_data)\n",
        "\n",
        "    # Calculate the number of bits\n",
        "    num_bits = len(binary_string)\n",
        "\n",
        "    # Print the binary content and the number of bits\n",
        "    print(f\"Binary content of {file_path}:\")\n",
        "    print(binary_string)\n",
        "    print(f\"\\nTotal number of bits: {num_bits}\")\n",
        "\n",
        "# Example usage\n",
        "binary_file_path = \"/content/sample_data/decrypted_aes_concate.bin\"  # Replace with the actual path to your binary file\n",
        "print_binary_file(binary_file_path)\n"
      ],
      "metadata": {
        "colab": {
          "base_uri": "https://localhost:8080/"
        },
        "id": "a0QNtfKAWz9O",
        "outputId": "55e88b67-ca33-436f-88ff-e3646f524484"
      },
      "execution_count": null,
      "outputs": [
        {
          "output_type": "stream",
          "name": "stdout",
          "text": [
            "Binary content of /content/sample_data/decrypted_aes_concate.bin:\n",
            "11001011011000100110110100111100001111000111001011011000010111011111000101011100010001000011101000101010110010000110111100010111111010010010100011011111000111111100011111001000001101001010111011000010010000101111000001100011001110010111100010001111011110001100111101110011110010111110000111101111010110111000110100100100110110110110101010110111111111100110000101101110101000001000111000101011110001101010110001111000110101010001010111110100111011000001110101011110111000011001001001011001000010101000000111010011\n",
            "\n",
            "Total number of bits: 512\n"
          ]
        }
      ]
    },
    {
      "cell_type": "code",
      "source": [
        "def read_bin_file(file_path):\n",
        "    \"\"\"Reads a binary file and returns its content.\"\"\"\n",
        "    with open(file_path, 'rb') as file:\n",
        "        return file.read()\n",
        "\n",
        "def bin_to_hex_string(bin_data):\n",
        "    \"\"\"Converts binary data to a hexadecimal string.\"\"\"\n",
        "    return bin_data.hex()\n",
        "\n",
        "def print_hex_file(file_path):\n",
        "    \"\"\"Reads the binary file and prints the hexadecimal string and the number of bytes.\"\"\"\n",
        "    binary_data = read_bin_file(file_path)\n",
        "    hex_string = bin_to_hex_string(binary_data)\n",
        "\n",
        "    # Calculate the number of bytes\n",
        "    num_bytes = len(binary_data)\n",
        "\n",
        "    # Print the hexadecimal content and the number of bytes\n",
        "    print(f\"Hexadecimal content of {file_path}:\")\n",
        "    print(hex_string)\n",
        "    print(f\"\\nTotal number of bytes: {num_bytes}\")\n",
        "\n",
        "# Example usage\n",
        "binary_file_path = \"/content/sample_data/rsa.bin\"  # Replace with the actual path to your binary file\n",
        "print_hex_file(binary_file_path)\n"
      ],
      "metadata": {
        "colab": {
          "base_uri": "https://localhost:8080/"
        },
        "id": "fTEyfLx6dyiu",
        "outputId": "7d470f90-5c07-4a84-eb51-25d1c2e3f2b0"
      },
      "execution_count": null,
      "outputs": [
        {
          "output_type": "stream",
          "name": "stdout",
          "text": [
            "Hexadecimal content of /content/sample_data/rsa.bin:\n",
            "9136e0bc0ef02fc2c039b390b7412265dbb346dce818c36d2e70605539ec54289afb9acd5fd7bc3cf59ae0896e0fc5cfac24ae14d97845a0545f83bbaecaf832257ccdaa1a984cf9d3e69d6c5a2b2adfcd800952ceda9e86c71dd6181b5979bc1d3c533af8f68618f978dbf6f5370771448cb7fd3cb3f43415e278bef00a30677b3bb7daccc0c92c2e40ff877ac1ada5b19beeeb6688d535423ed6ce7b1610c1f7e6b274a3f5781855463aebb9719f90dbe19e60a6851820488ec3c1caa74ccef3b675616b0aa7ab9d30cd79633ca5d2cd21f19ff0468db0bcea91d3a0e7d00fbfbcb8e44f69ec8f2e0493f7d57b04e2be47a1a0a1be9cd924f86bdb54b05220\n",
            "\n",
            "Total number of bytes: 256\n"
          ]
        }
      ]
    },
    {
      "cell_type": "code",
      "source": [
        "from PIL import Image\n",
        "\n",
        "def extract_lsb_data(stego_image_path):\n",
        "    \"\"\"Extracts hidden binary data from an image using the Least Significant Bit (LSB) technique.\"\"\"\n",
        "    img = Image.open(stego_image_path)\n",
        "    img_data = img.convert(\"RGB\")\n",
        "    pixels = list(img_data.getdata())\n",
        "\n",
        "    # Extract LSB from each color channel and form the binary string\n",
        "    binary_data = \"\"\n",
        "    for pixel in pixels:\n",
        "        for color in pixel:  # R, G, B channels\n",
        "            binary_data += bin(color)[-1]  # Get the least significant bit\n",
        "\n",
        "    return binary_data\n",
        "\n",
        "def save_bin_file(output_path, binary_data, num_bytes):\n",
        "    \"\"\"Saves a specified number of bytes of binary data to a binary file.\"\"\"\n",
        "    # Convert the binary string to bytes\n",
        "    byte_data = int(binary_data[:num_bytes * 8], 2).to_bytes(num_bytes, byteorder='big')\n",
        "\n",
        "    with open(output_path, 'wb') as file:\n",
        "        file.write(byte_data)\n",
        "\n",
        "def decode_stego_image(stego_image_path, output_bin_path, num_bytes=288):\n",
        "    \"\"\"Decodes the hidden binary data from the stego image and saves the first specified number of bytes as a binary file.\"\"\"\n",
        "    # Extract the binary data from the image using LSB method\n",
        "    binary_data = extract_lsb_data(stego_image_path)\n",
        "\n",
        "    print(f\"Extracted binary data (first 100 bits): {binary_data[:100]}...\")  # Print part of the binary data\n",
        "\n",
        "    # Save the first 288 bytes of binary data to a file\n",
        "    save_bin_file(output_bin_path, binary_data, num_bytes)\n",
        "    print(f\"First {num_bytes} bytes of binary data saved to: {output_bin_path}\")\n",
        "\n",
        "# Example usage\n",
        "stego_image_path = \"/content/sample_data/output_stego_image.png\"  # Path to the stego image\n",
        "output_bin_path = \"/content/sample_data/output_decoded.bin\"  # Path to save the extracted binary\n",
        "\n",
        "decode_stego_image(stego_image_path, output_bin_path)\n"
      ],
      "metadata": {
        "colab": {
          "base_uri": "https://localhost:8080/"
        },
        "id": "Onna0bKOaPtA",
        "outputId": "0053dd31-9951-41ca-fa09-52d80e94ebc7"
      },
      "execution_count": null,
      "outputs": [
        {
          "output_type": "stream",
          "name": "stdout",
          "text": [
            "Extracted binary data (first 100 bits): 1001000100110110111000001011110000001110111100000010111111000010110000000011100110110011100100001011...\n",
            "First 288 bytes of binary data saved to: /content/sample_data/output_decoded.bin\n"
          ]
        }
      ]
    },
    {
      "cell_type": "code",
      "source": [
        "def separate_rsa_and_hash(decoded_bin_path, rsa_output_path, hash_output_path):\n",
        "    \"\"\"Separates RSA-encrypted binary and double hash binary from the decoded binary file.\"\"\"\n",
        "\n",
        "    # Step 1: Load the decoded binary data from file\n",
        "    with open(decoded_bin_path, 'rb') as f:\n",
        "        decoded_data = f.read()\n",
        "\n",
        "    # Step 2: Define sizes (in bytes)\n",
        "    rsa_size = 256  # RSA-2048 encrypted AES key (256 bytes)\n",
        "    hash_size = 48   # MD5 + SHA-256 (32 bytes for SHA-256 and 16 bytes for MD5)\n",
        "\n",
        "    # Step 3: Split the binary data\n",
        "    rsa_binary = decoded_data[:rsa_size]  # First 256 bytes are RSA-encrypted data\n",
        "    double_hash_binary = decoded_data[rsa_size:rsa_size + hash_size]  # Next 48 bytes are the double hash\n",
        "\n",
        "    # Step 4: Convert the double hash binary into hex format\n",
        "    double_hash_hex = double_hash_binary.hex()\n",
        "\n",
        "    # Step 5: Save the RSA binary and double hash separately\n",
        "    with open(rsa_output_path, 'wb') as rsa_file:\n",
        "        rsa_file.write(rsa_binary)\n",
        "    print(f\"RSA-encrypted binary saved to: {rsa_output_path}\")\n",
        "\n",
        "    with open(hash_output_path, 'w') as hash_file:\n",
        "        hash_file.write(double_hash_hex)\n",
        "    print(f\"Double hash (in hex format) saved to: {hash_output_path}\")\n",
        "\n",
        "    # Debug prints\n",
        "    print(f\"RSA-encrypted binary (first 64 bytes): {rsa_binary[:64].hex()}...\")\n",
        "    print(f\"Double hash (hex): {double_hash_hex}\")\n",
        "\n",
        "# Example usage:\n",
        "decoded_bin_path = \"/content/sample_data/output_decoded.bin\"  # Path to the decoded binary file\n",
        "rsa_output_path = \"/content/sample_data/output_rsa_binary.bin\"     # Path to save the RSA-encrypted binary\n",
        "hash_output_path = \"/content/sample_data/output_double_hash_hex.txt\"      # Path to save the double hash in hex format\n",
        "\n",
        "# Call the function to separate and save RSA binary and double hash\n",
        "separate_rsa_and_hash(decoded_bin_path, rsa_output_path, hash_output_path)\n"
      ],
      "metadata": {
        "colab": {
          "base_uri": "https://localhost:8080/"
        },
        "id": "5tx25V0Hbka0",
        "outputId": "fee5bad1-85eb-4862-e296-11b12004eddd"
      },
      "execution_count": null,
      "outputs": [
        {
          "output_type": "stream",
          "name": "stdout",
          "text": [
            "RSA-encrypted binary saved to: /content/sample_data/output_rsa_binary.bin\n",
            "Double hash (in hex format) saved to: /content/sample_data/output_double_hash_hex.txt\n",
            "RSA-encrypted binary (first 64 bytes): 9136e0bc0ef02fc2c039b390b7412265dbb346dce818c36d2e70605539ec54289afb9acd5fd7bc3cf59ae0896e0fc5cfac24ae14d97845a0545f83bbaecaf832...\n",
            "Double hash (hex): 290928677845ee57a805b11badfb292419a11a4d151e47ae6d9c1d6011164666\n"
          ]
        }
      ]
    },
    {
      "cell_type": "code",
      "source": [
        "from Crypto.Cipher import PKCS1_OAEP\n",
        "from Crypto.PublicKey import RSA\n",
        "\n",
        "def rsa_decrypt(rsa_binary_path, private_key_path, output_path):\n",
        "    \"\"\"Decrypts RSA-encrypted binary data using the provided RSA private key and saves the output to a file.\"\"\"\n",
        "    # Load the RSA private key\n",
        "    with open(private_key_path, 'rb') as key_file:\n",
        "        private_key = RSA.import_key(key_file.read())\n",
        "\n",
        "    # Create RSA decryption cipher\n",
        "    cipher_rsa = PKCS1_OAEP.new(private_key)\n",
        "\n",
        "    # Read the RSA-encrypted binary data\n",
        "    with open(rsa_binary_path, 'rb') as enc_file:\n",
        "        encrypted_data = enc_file.read()\n",
        "\n",
        "    # Decrypt the data\n",
        "    decrypted_data = cipher_rsa.decrypt(encrypted_data)\n",
        "\n",
        "    # Save the decrypted data to a file\n",
        "    with open(output_path, 'wb') as output_file:\n",
        "        output_file.write(decrypted_data)\n",
        "\n",
        "    print(f\"Decrypted data saved to: {output_path}\")\n",
        "\n",
        "# Example usage\n",
        "rsa_binary_path = \"/content/sample_data/output_rsa_binary.bin\"  # Path to RSA encrypted binary data\n",
        "private_key_path = \"/content/private_key.pem\"   # Path to the RSA private key\n",
        "output_path = \"/content/sample_data/decrypted_aes_concate.bin\"    # Path to save the decrypted output\n",
        "\n",
        "rsa_decrypt(rsa_binary_path, private_key_path, output_path)\n"
      ],
      "metadata": {
        "colab": {
          "base_uri": "https://localhost:8080/"
        },
        "id": "txH8GcpzjhJ4",
        "outputId": "f78dcea3-8e12-46ff-e7db-c2141510595d"
      },
      "execution_count": null,
      "outputs": [
        {
          "output_type": "stream",
          "name": "stdout",
          "text": [
            "Decrypted data saved to: /content/sample_data/decrypted_aes_concate.bin\n"
          ]
        }
      ]
    },
    {
      "cell_type": "code",
      "source": [
        "from Crypto.PublicKey import RSA\n",
        "from Crypto.Cipher import PKCS1_OAEP\n",
        "import binascii\n",
        "\n",
        "def rsa_decrypt(rsa_bin_path, private_key_path, output_aes_concat_hex_path):\n",
        "    \"\"\"Decrypt RSA encrypted data and save the AES concatenated output in hex format.\"\"\"\n",
        "\n",
        "    # Step 1: Load the RSA-encrypted binary data\n",
        "    with open(rsa_bin_path, 'rb') as file:\n",
        "        rsa_encrypted_data = file.read()\n",
        "\n",
        "    print(f\"Loaded RSA encrypted data (first 100 bytes): {binascii.hexlify(rsa_encrypted_data[:100])}...\")\n",
        "\n",
        "    # Step 2: Load the private key\n",
        "    with open(private_key_path, 'rb') as file:\n",
        "        private_key = RSA.import_key(file.read())\n",
        "\n",
        "    # Step 3: Decrypt the data using RSA\n",
        "    cipher_rsa = PKCS1_OAEP.new(private_key)\n",
        "    decrypted_data = cipher_rsa.decrypt(rsa_encrypted_data)\n",
        "\n",
        "    print(f\"Decrypted AES concatenated data (first 100 bytes): {binascii.hexlify(decrypted_data[:100])}...\")\n",
        "\n",
        "    # Step 4: Convert decrypted data to hex format and save to file\n",
        "    hex_data = binascii.hexlify(decrypted_data).decode('utf-8')\n",
        "    with open(output_aes_concat_hex_path, 'w') as output_file:\n",
        "        output_file.write(hex_data)\n",
        "\n",
        "    print(f\"AES concatenated data saved in hex format at: {output_aes_concat_hex_path}\")\n",
        "\n",
        "# Example usage\n",
        "rsa_bin_path = \"/content/sample_data/output_rsa_binary.bin\"  # Path to the RSA encrypted binary file\n",
        "private_key_path = \"/content/private_key.pem\"  # Path to the RSA private key file\n",
        "output_aes_concat_hex_path = \"/content/sample_data/decrypted_aes_concate.txt\"  # Path to save the AES concatenated data in hex format\n",
        "\n",
        "rsa_decrypt(rsa_bin_path, private_key_path, output_aes_concat_hex_path)\n"
      ],
      "metadata": {
        "colab": {
          "base_uri": "https://localhost:8080/"
        },
        "id": "S2DAxaBIk9Z_",
        "outputId": "ca6f31ca-13c6-4d49-f802-9f30623368b6"
      },
      "execution_count": null,
      "outputs": [
        {
          "output_type": "stream",
          "name": "stdout",
          "text": [
            "Loaded RSA encrypted data (first 100 bytes): b'9136e0bc0ef02fc2c039b390b7412265dbb346dce818c36d2e70605539ec54289afb9acd5fd7bc3cf59ae0896e0fc5cfac24ae14d97845a0545f83bbaecaf832257ccdaa1a984cf9d3e69d6c5a2b2adfcd800952ceda9e86c71dd6181b5979bc1d3c533a'...\n",
            "Decrypted AES concatenated data (first 100 bytes): b'cb626d3c3c72d85df15c443a2ac86f17e928df1fc7c834aec242f06339788f78cf73cbe1ef5b8d24db6ab7fe616ea08e2bc6ac78d515f4ec1d5ee192590a81d3'...\n",
            "AES concatenated data saved in hex format at: /content/sample_data/decrypted_aes_concate.txt\n"
          ]
        }
      ]
    },
    {
      "cell_type": "code",
      "source": [
        "def separate_aes_concat_v2(concat_txt_path, aes_cipher_text_path, aes_key_bin_path, aes_iv_txt_path):\n",
        "    \"\"\"Separates AES concatenated text into AES cipher text, AES key (bin format), and AES initialization vector (IV).\"\"\"\n",
        "\n",
        "    # Step 1: Read the concatenated AES data from the text file\n",
        "    with open(concat_txt_path, 'r') as file:\n",
        "        concat_hex_data = file.read().strip()  # Hex format concatenated data\n",
        "\n",
        "    # Convert hex string to bytes\n",
        "    concat_data = bytes.fromhex(concat_hex_data)\n",
        "\n",
        "    # Step 2: Extract the AES IV, Key, and Cipher Text\n",
        "    aes_iv_size = 16   # AES IV size (16 bytes)\n",
        "    aes_key_size = 16  # AES-128 key size (16 bytes)\n",
        "\n",
        "    aes_iv = concat_data[-aes_iv_size:]  # Last 16 bytes\n",
        "    aes_key = concat_data[-(aes_iv_size + aes_key_size):-aes_iv_size]  # Next 16 bytes before the IV\n",
        "    aes_cipher_text = concat_data[:-(aes_iv_size + aes_key_size)]  # Remaining bytes are the cipher text\n",
        "\n",
        "    print(f\"AES IV (hex): {aes_iv.hex()}\")\n",
        "    print(f\"AES Key (hex): {aes_key.hex()}\")\n",
        "    print(f\"AES Cipher Text (first 100 bytes in hex): {aes_cipher_text[:100].hex()}...\")\n",
        "\n",
        "    # Step 3: Save each part to its respective file\n",
        "\n",
        "    # Save AES cipher text in hex format\n",
        "    with open(aes_cipher_text_path, 'w') as file:\n",
        "        file.write(aes_cipher_text.hex())\n",
        "    print(f\"AES cipher text saved to: {aes_cipher_text_path}\")\n",
        "\n",
        "    # Save AES key in binary format\n",
        "    with open(aes_key_bin_path, 'wb') as file:\n",
        "        file.write(aes_key)\n",
        "    print(f\"AES key (bin) saved to: {aes_key_bin_path}\")\n",
        "\n",
        "    # Save AES IV in hex format\n",
        "    with open(aes_iv_txt_path, 'w') as file:\n",
        "        file.write(aes_iv.hex())\n",
        "    print(f\"AES IV saved to: {aes_iv_txt_path}\")\n",
        "\n",
        "# Example usage\n",
        "concat_txt_path = \"/content/sample_data/decrypted_aes_concate.txt\"  # Path to the concatenated AES text file (in hex format)\n",
        "aes_cipher_text_path = \"/content/sample_data/decrypted_aes_cipher.txt\"  # Path to save the AES cipher text (hex format)\n",
        "aes_key_bin_path = \"/content/sample_data/decrypted_aes_key.bin\"  # Path to save the AES key (binary format)\n",
        "aes_iv_txt_path = \"/content/sample_data/decrypted_aes_iv.txt\"  # Path to save the AES initialization vector (hex format)\n",
        "\n",
        "separate_aes_concat_v2(concat_txt_path, aes_cipher_text_path, aes_key_bin_path, aes_iv_txt_path)\n"
      ],
      "metadata": {
        "colab": {
          "base_uri": "https://localhost:8080/"
        },
        "id": "YMBu44uvsEYw",
        "outputId": "337a25d9-2d56-43e6-805e-b5d7bb444c9e"
      },
      "execution_count": null,
      "outputs": [
        {
          "output_type": "stream",
          "name": "stdout",
          "text": [
            "AES IV (hex): 2bc6ac78d515f4ec1d5ee192590a81d3\n",
            "AES Key (hex): cf73cbe1ef5b8d24db6ab7fe616ea08e\n",
            "AES Cipher Text (first 100 bytes in hex): cb626d3c3c72d85df15c443a2ac86f17e928df1fc7c834aec242f06339788f78...\n",
            "AES cipher text saved to: /content/sample_data/decrypted_aes_cipher.txt\n",
            "AES key (bin) saved to: /content/sample_data/decrypted_aes_key.bin\n",
            "AES IV saved to: /content/sample_data/decrypted_aes_iv.txt\n"
          ]
        }
      ]
    },
    {
      "cell_type": "code",
      "source": [
        "from Crypto.Cipher import AES\n",
        "from Crypto.Util.Padding import unpad\n",
        "\n",
        "def aes_decrypt(cipher_text_path, aes_key_bin_path, aes_iv_txt_path, output_plain_text_path):\n",
        "    \"\"\"Performs AES decryption to retrieve the plain text and save it to a file.\"\"\"\n",
        "\n",
        "    # Step 1: Read the AES cipher text from the file (in hex format)\n",
        "    with open(cipher_text_path, 'r') as file:\n",
        "        aes_cipher_text_hex = file.read().strip()\n",
        "\n",
        "    aes_cipher_text = bytes.fromhex(aes_cipher_text_hex)  # Convert hex to bytes\n",
        "\n",
        "    # Step 2: Read the AES key from the binary file\n",
        "    with open(aes_key_bin_path, 'rb') as file:\n",
        "        aes_key = file.read()  # Binary key\n",
        "\n",
        "    # Step 3: Read the AES IV from the text file (in hex format)\n",
        "    with open(aes_iv_txt_path, 'r') as file:\n",
        "        aes_iv_hex = file.read().strip()\n",
        "\n",
        "    aes_iv = bytes.fromhex(aes_iv_hex)  # Convert hex to bytes\n",
        "\n",
        "    # Step 4: Perform AES decryption (AES-128 CBC mode)\n",
        "    cipher_aes = AES.new(aes_key, AES.MODE_CBC, aes_iv)\n",
        "    plain_text = unpad(cipher_aes.decrypt(aes_cipher_text), AES.block_size)\n",
        "\n",
        "    # Step 5: Save the decrypted plain text to the output file\n",
        "    with open(output_plain_text_path, 'w') as file:\n",
        "        file.write(plain_text.decode('utf-8'))\n",
        "\n",
        "    print(f\"Decrypted plain text saved to: {output_plain_text_path}\")\n",
        "    print(f\"Decrypted Plain Text: {plain_text.decode('utf-8')}\")\n",
        "\n",
        "# Example usage\n",
        "cipher_text_path = \"/content/sample_data/decrypted_aes_cipher.txt\"  # Path to the AES cipher text file (hex format)\n",
        "aes_key_bin_path = \"/content/sample_data/decrypted_aes_key.bin\"  # Path to the AES key (binary format)\n",
        "aes_iv_txt_path = \"/content/sample_data/decrypted_aes_iv.txt\"  # Path to the AES IV file (hex format)\n",
        "output_plain_text_path = \"/content/sample_data/decrypted_plain_text.txt\"  # Path to save the decrypted plain text\n",
        "\n",
        "aes_decrypt(cipher_text_path, aes_key_bin_path, aes_iv_txt_path, output_plain_text_path)\n"
      ],
      "metadata": {
        "colab": {
          "base_uri": "https://localhost:8080/"
        },
        "id": "LzBFi9r5tM_9",
        "outputId": "8a77db62-bc08-436e-a628-c8d60aab107d"
      },
      "execution_count": null,
      "outputs": [
        {
          "output_type": "stream",
          "name": "stdout",
          "text": [
            "Decrypted plain text saved to: /content/sample_data/decrypted_plain_text.txt\n",
            "Decrypted Plain Text: hi, how are you?\n"
          ]
        }
      ]
    },
    {
      "cell_type": "code",
      "source": [
        "import hashlib\n",
        "\n",
        "def calculate_double_hash(plain_text):\n",
        "    \"\"\"Performs double hashing (MD5 followed by SHA-256) on the plain text.\"\"\"\n",
        "    # Step 1: Perform MD5 hash\n",
        "    md5_hash = hashlib.md5(plain_text.encode()).hexdigest()\n",
        "\n",
        "    # Step 2: Perform SHA-256 hash on the MD5 hash\n",
        "    sha256_hash = hashlib.sha256(md5_hash.encode()).hexdigest()\n",
        "\n",
        "    return sha256_hash\n",
        "\n",
        "def compare_hashes(decrypted_plain_text_path, decoded_hash_value_path):\n",
        "    \"\"\"Compares the double hash of the decrypted plain text with the decoded hash value.\"\"\"\n",
        "\n",
        "    # Step 3: Read the decrypted plain text\n",
        "    with open(decrypted_plain_text_path, 'r') as file:\n",
        "        decrypted_plain_text = file.read().strip()\n",
        "\n",
        "    print(f\"Decrypted Plain Text: {decrypted_plain_text}\")\n",
        "\n",
        "    # Step 4: Perform double hashing (MD5 followed by SHA-256)\n",
        "    calculated_hash = calculate_double_hash(decrypted_plain_text)\n",
        "    print(f\"Calculated Double Hash: {calculated_hash}\")\n",
        "\n",
        "    # Step 5: Read the decoded hash value from the file (in hex format)\n",
        "    with open(decoded_hash_value_path, 'r') as file:\n",
        "        decoded_hash_value = file.read().strip()\n",
        "\n",
        "    print(f\"Decoded Hash Value: {decoded_hash_value}\")\n",
        "\n",
        "    # Step 6: Compare the calculated hash with the decoded hash value\n",
        "    if calculated_hash == decoded_hash_value:\n",
        "        print(\"Successfully performed image steganography!\")\n",
        "    else:\n",
        "        print(\"Message is corrupted.\")\n",
        "\n",
        "# Example usage\n",
        "decrypted_plain_text_path = \"/content/sample_data/decrypted_plain_text.txt\"  # Path to the decrypted plain text file\n",
        "decoded_hash_value_path = \"/content/sample_data/output_double_hash_hex.txt\"  # Path to the decoded hash value file (hex format)\n",
        "\n",
        "compare_hashes(decrypted_plain_text_path, decoded_hash_value_path)\n",
        "\n"
      ],
      "metadata": {
        "colab": {
          "base_uri": "https://localhost:8080/"
        },
        "id": "fO72XKXauELA",
        "outputId": "bc7f749c-6c9a-4c56-cee9-358425b82e9e"
      },
      "execution_count": null,
      "outputs": [
        {
          "output_type": "stream",
          "name": "stdout",
          "text": [
            "Decrypted Plain Text: hi, how are you?\n",
            "Calculated Double Hash: 290928677845ee57a805b11badfb292419a11a4d151e47ae6d9c1d6011164666\n",
            "Decoded Hash Value: 290928677845ee57a805b11badfb292419a11a4d151e47ae6d9c1d6011164666\n",
            "Successfully performed image steganography!\n"
          ]
        }
      ]
    }
  ]
}